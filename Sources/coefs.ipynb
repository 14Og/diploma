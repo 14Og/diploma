{
 "cells": [
  {
   "cell_type": "code",
   "execution_count": 19,
   "metadata": {},
   "outputs": [],
   "source": [
    "from sklearn.preprocessing import PolynomialFeatures\n",
    "from sklearn.linear_model import LinearRegression\n",
    "import pandas as pd\n",
    "import numpy as np"
   ]
  },
  {
   "cell_type": "code",
   "execution_count": 24,
   "metadata": {},
   "outputs": [
    {
     "name": "stdout",
     "output_type": "stream",
     "text": [
      "     x    y   x^2   x y   y^2   x^3  x^2 y  x y^2    y^3\n",
      "0  1.0  4.0   1.0   4.0  16.0   1.0    4.0   16.0   64.0\n",
      "1  2.0  5.0   4.0  10.0  25.0   8.0   20.0   50.0  125.0\n",
      "2  3.0  6.0   9.0  18.0  36.0  27.0   54.0  108.0  216.0\n",
      "3  4.0  7.0  16.0  28.0  49.0  64.0  112.0  196.0  343.0\n"
     ]
    }
   ],
   "source": [
    "poly = PolynomialFeatures(3, include_bias=False)\n",
    "input = np.column_stack([[1,2,3,4], [4,5,6,7]])\n",
    "combination = poly.fit_transform(input)\n",
    "poly.get_feature_names_out()\n",
    "coefs = pd.DataFrame(poly.transform(input), columns=poly.get_feature_names_out((\"x\", \"y\")))\n",
    "print(coefs)\n",
    "\n",
    "# print(poly.powers_, poly.powers_.shape)\n"
   ]
  },
  {
   "cell_type": "code",
   "execution_count": null,
   "metadata": {},
   "outputs": [],
   "source": []
  }
 ],
 "metadata": {
  "kernelspec": {
   "display_name": ".venv",
   "language": "python",
   "name": "python3"
  },
  "language_info": {
   "codemirror_mode": {
    "name": "ipython",
    "version": 3
   },
   "file_extension": ".py",
   "mimetype": "text/x-python",
   "name": "python",
   "nbconvert_exporter": "python",
   "pygments_lexer": "ipython3",
   "version": "3.10.12"
  }
 },
 "nbformat": 4,
 "nbformat_minor": 2
}
